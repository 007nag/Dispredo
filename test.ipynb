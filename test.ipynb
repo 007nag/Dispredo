{
 "cells": [
  {
   "cell_type": "code",
   "execution_count": 1,
   "metadata": {},
   "outputs": [
    {
     "name": "stdout",
     "output_type": "stream",
     "text": [
      "INFO:tensorflow:Enabling eager execution\n",
      "INFO:tensorflow:Enabling v2 tensorshape\n",
      "INFO:tensorflow:Enabling resource variables\n",
      "INFO:tensorflow:Enabling tensor equality\n",
      "INFO:tensorflow:Enabling control flow v2\n"
     ]
    }
   ],
   "source": [
    "import numpy as np\n",
    "import tensorflow as tf\n",
    "from tensorflow import keras\n",
    "from keras.models import load_model\n",
    "import random\n",
    "import cv2"
   ]
  },
  {
   "cell_type": "code",
   "execution_count": 2,
   "metadata": {},
   "outputs": [],
   "source": [
    "y=np.load(\"D:\\Projects\\Major Project\\data\\y.npy\")"
   ]
  },
  {
   "cell_type": "code",
   "execution_count": 53,
   "metadata": {},
   "outputs": [
    {
     "name": "stdout",
     "output_type": "stream",
     "text": [
      "92.85714285714286\n"
     ]
    }
   ],
   "source": [
    "with tf.device('CPU:0'):\n",
    "    import os\n",
    "    ind=random.randint(0,112120)\n",
    "    x=cv2.imread(\"D:/Projects/Major Project/data/data/\"+str(ind)+\".jpg\",0)/255.0\n",
    "    x=np.array([x.reshape(100,100,1)])\n",
    "    z=[]\n",
    "    c=d=0\n",
    "    for i in range(14):\n",
    "        path=\"D:/Projects/Major Project/new_models/\"+str(i)+\"/\"\n",
    "        for j in os.listdir(path):\n",
    "            model=load_model(path+j,compile=False)\n",
    "            z.append(round(model(x,training=False).numpy()[0][0]))\n",
    "            \n",
    "            #z.append(model.predict_step(x)[0][0])\n",
    "        #break\n",
    "    \n",
    "    for i in range(14):\n",
    "            if z[i]==y[ind][i]:\n",
    "                c+=1\n",
    "    print(c*100/14)"
   ]
  },
  {
   "cell_type": "code",
   "execution_count": 3,
   "metadata": {},
   "outputs": [
    {
     "name": "stdout",
     "output_type": "stream",
     "text": [
      "[1 0 1 0 0 0 0 1 0 0 0 0 0 0]\n"
     ]
    }
   ],
   "source": [
    "print(y[99031])"
   ]
  },
  {
   "cell_type": "code",
   "execution_count": null,
   "metadata": {},
   "outputs": [],
   "source": []
  }
 ],
 "metadata": {
  "kernelspec": {
   "display_name": "Python 3",
   "language": "python",
   "name": "python3"
  },
  "language_info": {
   "codemirror_mode": {
    "name": "ipython",
    "version": 3
   },
   "file_extension": ".py",
   "mimetype": "text/x-python",
   "name": "python",
   "nbconvert_exporter": "python",
   "pygments_lexer": "ipython3",
   "version": "3.8.5"
  }
 },
 "nbformat": 4,
 "nbformat_minor": 5
}
