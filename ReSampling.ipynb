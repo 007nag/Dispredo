{
 "cells": [
  {
   "cell_type": "code",
   "execution_count": 5,
   "id": "ed181b12",
   "metadata": {},
   "outputs": [],
   "source": [
    "import tensorflow as tf\n",
    "from tensorflow import keras\n",
    "import cv2\n",
    "import numpy as np\n",
    "import random\n",
    "from imblearn.combine import SMOTETomek"
   ]
  },
  {
   "cell_type": "code",
   "execution_count": 9,
   "id": "bc9e6042",
   "metadata": {},
   "outputs": [],
   "source": [
    "z=np.load(\"D:/Projects/Major Project/data/newdata/negative.npy\")\n",
    "y_all=np.load(\"D:\\Projects\\Major Project\\data\\y.npy\")"
   ]
  },
  {
   "cell_type": "code",
   "execution_count": 10,
   "id": "bbfce04a",
   "metadata": {},
   "outputs": [
    {
     "name": "stdout",
     "output_type": "stream",
     "text": [
      "----------1------\n",
      "----------2------\n",
      "----------3------\n",
      "----------4------\n",
      "----------5------\n",
      "----------6------\n",
      "----------7------\n",
      "----------8------\n",
      "----------9------\n",
      "----------10------\n",
      "----------11------\n",
      "----------12------\n"
     ]
    }
   ],
   "source": [
    "l=len(y_all)\n",
    "for k in range(14):\n",
    "    q=[]\n",
    "    for i in range(l):\n",
    "        if y_all[i][k]==1:\n",
    "            x=cv2.imread(\"D:/Projects/Major Project/data/data/\"+str(i)+\".jpg\",0)/255.0\n",
    "            x=x.reshape(100,100,1)\n",
    "            q.append(x)\n",
    "    q=np.array(q)\n",
    "    x=np.append(z,q,axis=0)\n",
    "    x=x.reshape(len(x),100*100)\n",
    "    y=np.array([0 for i in range(12000)]+[1 for i in range(len(q))])\n",
    "    x_new,y_new=SMOTETomek(random_state=42).fit_resample(x,y)\n",
    "    x_1=x_new.reshape(len(x_new),100,100,1)\n",
    "    np.save(\"D:/Projects/Major Project/data/newdata/\"+str(k)+\"/x.npy\",x_1)\n",
    "    np.save(\"D:/Projects/Major Project/data/newdata/\"+str(k)+\"/y.npy\",y_new)\n",
    "    print(\"----------\"+str(k)+\"------\")"
   ]
  },
  {
   "cell_type": "code",
   "execution_count": 25,
   "id": "68380e5e",
   "metadata": {},
   "outputs": [],
   "source": []
  },
  {
   "cell_type": "code",
   "execution_count": 31,
   "id": "066942ae",
   "metadata": {},
   "outputs": [],
   "source": []
  },
  {
   "cell_type": "code",
   "execution_count": 34,
   "id": "7c28030c",
   "metadata": {},
   "outputs": [],
   "source": []
  },
  {
   "cell_type": "code",
   "execution_count": 37,
   "id": "f9a7d276",
   "metadata": {},
   "outputs": [],
   "source": []
  },
  {
   "cell_type": "code",
   "execution_count": 41,
   "id": "fdb83471",
   "metadata": {},
   "outputs": [],
   "source": []
  },
  {
   "cell_type": "code",
   "execution_count": null,
   "id": "b7030765",
   "metadata": {},
   "outputs": [],
   "source": []
  }
 ],
 "metadata": {
  "kernelspec": {
   "display_name": "Python 3",
   "language": "python",
   "name": "python3"
  },
  "language_info": {
   "codemirror_mode": {
    "name": "ipython",
    "version": 3
   },
   "file_extension": ".py",
   "mimetype": "text/x-python",
   "name": "python",
   "nbconvert_exporter": "python",
   "pygments_lexer": "ipython3",
   "version": "3.8.8"
  }
 },
 "nbformat": 4,
 "nbformat_minor": 5
}
