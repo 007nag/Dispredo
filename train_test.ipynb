{
 "cells": [
  {
   "cell_type": "code",
   "execution_count": 12,
   "metadata": {},
   "outputs": [],
   "source": [
    "import cv2\n",
    "import numpy as np\n",
    "import os\n",
    "import shutil"
   ]
  },
  {
   "cell_type": "code",
   "execution_count": 13,
   "metadata": {},
   "outputs": [],
   "source": [
    "data_path=\"D:/Projects/Major Project/data/data/\"\n",
    "le=len(os.listdir(data_path))\n",
    "x=np.random.permutation(le)\n",
    "y=np.load(\"D:/Projects/Major Project/data/y.npy\")\n",
    "y=y[x]"
   ]
  },
  {
   "cell_type": "code",
   "execution_count": 17,
   "metadata": {},
   "outputs": [],
   "source": [
    "size=80000\n",
    "\n",
    "for i in x[size:]:\n",
    "    shutil.copy(data_path+str(i)+\".jpg\",\"D:/Projects/Major Project/data/valid_data/\"+str(i)+\".jpg\")\n",
    "    "
   ]
  },
  {
   "cell_type": "code",
   "execution_count": 16,
   "metadata": {},
   "outputs": [],
   "source": [
    "np.save(\"D:/Projects/Major Project/data/y_train.npy\",y[:size])\n",
    "np.save(\"D:/Projects/Major Project/data/y_valid.npy\",y[size:])"
   ]
  },
  {
   "cell_type": "code",
   "execution_count": null,
   "metadata": {},
   "outputs": [],
   "source": []
  }
 ],
 "metadata": {
  "kernelspec": {
   "display_name": "Python 3",
   "language": "python",
   "name": "python3"
  },
  "language_info": {
   "codemirror_mode": {
    "name": "ipython",
    "version": 3
   },
   "file_extension": ".py",
   "mimetype": "text/x-python",
   "name": "python",
   "nbconvert_exporter": "python",
   "pygments_lexer": "ipython3",
   "version": "3.8.5"
  }
 },
 "nbformat": 4,
 "nbformat_minor": 5
}
