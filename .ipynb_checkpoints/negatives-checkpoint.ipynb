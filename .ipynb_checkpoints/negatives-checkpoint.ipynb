{
 "cells": [
  {
   "cell_type": "code",
   "execution_count": null,
   "id": "877e7c29",
   "metadata": {},
   "outputs": [],
   "source": [
    "import tensorflow as tf\n",
    "from tensorflow import keras\n",
    "import cv2\n",
    "import numpy as np\n",
    "import random"
   ]
  },
  {
   "cell_type": "code",
   "execution_count": null,
   "id": "a3142df6-dbe8-4832-922a-8409d05fbf65",
   "metadata": {},
   "outputs": [],
   "source": [
    "y=np.load(\"D:/Projects/Major Project/data/y.npy\")\n",
    "c=0\n",
    "l=len(y)\n",
    "for i in range(l):\n",
    "    if sum(y[i])==0:\n",
    "        z=cv2.imread(\"D:/Projects/Major Project/data/data/\"+str(i)+\".jpg\",0)/255.0\n",
    "        z=z.reshape(100,100,1)\n",
    "        np.save(\"D:/Projects/Major Project/data/newdata/negatives/\"+str(c)+\".npy\",z)\n",
    "        c+=1\n",
    "        if c%100==0:\n",
    "            print(c)\n",
    "    if c>=12000:break\n",
    "            \n",
    "print(c)"
   ]
  }
 ],
 "metadata": {
  "kernelspec": {
   "display_name": "Python 3",
   "language": "python",
   "name": "python3"
  },
  "language_info": {
   "codemirror_mode": {
    "name": "ipython",
    "version": 3
   },
   "file_extension": ".py",
   "mimetype": "text/x-python",
   "name": "python",
   "nbconvert_exporter": "python",
   "pygments_lexer": "ipython3",
   "version": "3.8.8"
  }
 },
 "nbformat": 4,
 "nbformat_minor": 5
}
